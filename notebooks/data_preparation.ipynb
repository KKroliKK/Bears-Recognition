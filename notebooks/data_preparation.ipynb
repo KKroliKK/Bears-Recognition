{
 "cells": [
  {
   "attachments": {},
   "cell_type": "markdown",
   "metadata": {},
   "source": [
    "# Outline"
   ]
  },
  {
   "attachments": {},
   "cell_type": "markdown",
   "metadata": {},
   "source": [
    "I decided to fine tune **pretrained on ImageNet inception model** from `torchivision`, so I need to preprocess data according to `ImageFolder` format.\n",
    "\n",
    "I will take given train images and **my own generated ones**. I went [to Stable Diffusion website](https://stablediffusionweb.com/#demo) and  [generated 65 more images with brown bears](https://drive.google.com/drive/folders/1c1XLbw4x_rzCpegpHfJOVREq1A2FSXd8?usp=sharing) similar to the pictures present in the dataset _(bear with white hare, bear in the city, bear on the tree, bear in winter forest, bear under sky full of stars, bear in the mud, bear near the water and so on)_.\n",
    "\n",
    "Prepared `ImageFolder` will be used for binary classification **whether there is a brown bear on the picture**."
   ]
  },
  {
   "attachments": {},
   "cell_type": "markdown",
   "metadata": {},
   "source": [
    "# Disclaimer"
   ]
  },
  {
   "attachments": {},
   "cell_type": "markdown",
   "metadata": {},
   "source": [
    "The task was to train the model that generalizes traing data the best. In real industry problem we will not have test data on our hands to validate on it. Test data assumes that we can't look at it, so in my work I used only train set of images to train, validate and test my models. 149 test images were used only for generating the final predictions for submission without looking at it."
   ]
  },
  {
   "attachments": {},
   "cell_type": "markdown",
   "metadata": {},
   "source": [
    "# Imports"
   ]
  },
  {
   "cell_type": "code",
   "execution_count": 5,
   "metadata": {},
   "outputs": [],
   "source": [
    "import os\n",
    "import pandas as pd\n",
    "import shutil\n",
    "\n",
    "from sklearn.model_selection import train_test_split\n",
    "from methods import ptree\n",
    "\n",
    "SEED = 42"
   ]
  },
  {
   "attachments": {},
   "cell_type": "markdown",
   "metadata": {},
   "source": [
    "# Labeling Data"
   ]
  },
  {
   "attachments": {},
   "cell_type": "markdown",
   "metadata": {},
   "source": [
    "I will take trainig part of images set and extract labels from `train.csv` file."
   ]
  },
  {
   "cell_type": "code",
   "execution_count": 6,
   "metadata": {},
   "outputs": [
    {
     "data": {
      "text/html": [
       "<div>\n",
       "<style scoped>\n",
       "    .dataframe tbody tr th:only-of-type {\n",
       "        vertical-align: middle;\n",
       "    }\n",
       "\n",
       "    .dataframe tbody tr th {\n",
       "        vertical-align: top;\n",
       "    }\n",
       "\n",
       "    .dataframe thead th {\n",
       "        text-align: right;\n",
       "    }\n",
       "</style>\n",
       "<table border=\"1\" class=\"dataframe\">\n",
       "  <thead>\n",
       "    <tr style=\"text-align: right;\">\n",
       "      <th></th>\n",
       "      <th>file_name</th>\n",
       "      <th>x1</th>\n",
       "      <th>y1</th>\n",
       "      <th>x2</th>\n",
       "      <th>y2</th>\n",
       "      <th>confidence</th>\n",
       "    </tr>\n",
       "  </thead>\n",
       "  <tbody>\n",
       "    <tr>\n",
       "      <th>0</th>\n",
       "      <td>image_100.png</td>\n",
       "      <td>0</td>\n",
       "      <td>0</td>\n",
       "      <td>0</td>\n",
       "      <td>0</td>\n",
       "      <td>0.0</td>\n",
       "    </tr>\n",
       "    <tr>\n",
       "      <th>1</th>\n",
       "      <td>image_102.jpeg</td>\n",
       "      <td>282</td>\n",
       "      <td>223</td>\n",
       "      <td>755</td>\n",
       "      <td>723</td>\n",
       "      <td>1.0</td>\n",
       "    </tr>\n",
       "    <tr>\n",
       "      <th>2</th>\n",
       "      <td>image_103.png</td>\n",
       "      <td>0</td>\n",
       "      <td>0</td>\n",
       "      <td>0</td>\n",
       "      <td>0</td>\n",
       "      <td>0.0</td>\n",
       "    </tr>\n",
       "    <tr>\n",
       "      <th>3</th>\n",
       "      <td>image_104.png</td>\n",
       "      <td>0</td>\n",
       "      <td>0</td>\n",
       "      <td>0</td>\n",
       "      <td>0</td>\n",
       "      <td>0.0</td>\n",
       "    </tr>\n",
       "    <tr>\n",
       "      <th>4</th>\n",
       "      <td>image_105.jpeg</td>\n",
       "      <td>189</td>\n",
       "      <td>328</td>\n",
       "      <td>402</td>\n",
       "      <td>728</td>\n",
       "      <td>1.0</td>\n",
       "    </tr>\n",
       "  </tbody>\n",
       "</table>\n",
       "</div>"
      ],
      "text/plain": [
       "        file_name   x1   y1   x2   y2  confidence\n",
       "0   image_100.png    0    0    0    0         0.0\n",
       "1  image_102.jpeg  282  223  755  723         1.0\n",
       "2   image_103.png    0    0    0    0         0.0\n",
       "3   image_104.png    0    0    0    0         0.0\n",
       "4  image_105.jpeg  189  328  402  728         1.0"
      ]
     },
     "execution_count": 6,
     "metadata": {},
     "output_type": "execute_result"
    }
   ],
   "source": [
    "df = pd.read_csv('./train.csv')\n",
    "df.head()"
   ]
  },
  {
   "attachments": {},
   "cell_type": "markdown",
   "metadata": {},
   "source": [
    "`confidence == 1.0` means that there is a bear on the image.\n",
    "\n",
    "Let's take only this column and cast it to _int_."
   ]
  },
  {
   "cell_type": "code",
   "execution_count": 7,
   "metadata": {},
   "outputs": [
    {
     "data": {
      "text/html": [
       "<div>\n",
       "<style scoped>\n",
       "    .dataframe tbody tr th:only-of-type {\n",
       "        vertical-align: middle;\n",
       "    }\n",
       "\n",
       "    .dataframe tbody tr th {\n",
       "        vertical-align: top;\n",
       "    }\n",
       "\n",
       "    .dataframe thead th {\n",
       "        text-align: right;\n",
       "    }\n",
       "</style>\n",
       "<table border=\"1\" class=\"dataframe\">\n",
       "  <thead>\n",
       "    <tr style=\"text-align: right;\">\n",
       "      <th></th>\n",
       "      <th>file_name</th>\n",
       "      <th>label</th>\n",
       "    </tr>\n",
       "  </thead>\n",
       "  <tbody>\n",
       "    <tr>\n",
       "      <th>0</th>\n",
       "      <td>image_100.png</td>\n",
       "      <td>0</td>\n",
       "    </tr>\n",
       "    <tr>\n",
       "      <th>1</th>\n",
       "      <td>image_102.jpeg</td>\n",
       "      <td>1</td>\n",
       "    </tr>\n",
       "    <tr>\n",
       "      <th>2</th>\n",
       "      <td>image_103.png</td>\n",
       "      <td>0</td>\n",
       "    </tr>\n",
       "    <tr>\n",
       "      <th>3</th>\n",
       "      <td>image_104.png</td>\n",
       "      <td>0</td>\n",
       "    </tr>\n",
       "    <tr>\n",
       "      <th>4</th>\n",
       "      <td>image_105.jpeg</td>\n",
       "      <td>1</td>\n",
       "    </tr>\n",
       "  </tbody>\n",
       "</table>\n",
       "</div>"
      ],
      "text/plain": [
       "        file_name  label\n",
       "0   image_100.png      0\n",
       "1  image_102.jpeg      1\n",
       "2   image_103.png      0\n",
       "3   image_104.png      0\n",
       "4  image_105.jpeg      1"
      ]
     },
     "execution_count": 7,
     "metadata": {},
     "output_type": "execute_result"
    }
   ],
   "source": [
    "df['label'] = df['confidence'].astype(int)\n",
    "df = df[['file_name', 'label']]\n",
    "df.head()"
   ]
  },
  {
   "attachments": {},
   "cell_type": "markdown",
   "metadata": {},
   "source": [
    "Also I need to create labels for **generated by myself images**. I generated only ones with bears, so labels everywhere are 1."
   ]
  },
  {
   "cell_type": "code",
   "execution_count": 8,
   "metadata": {},
   "outputs": [
    {
     "data": {
      "text/html": [
       "<div>\n",
       "<style scoped>\n",
       "    .dataframe tbody tr th:only-of-type {\n",
       "        vertical-align: middle;\n",
       "    }\n",
       "\n",
       "    .dataframe tbody tr th {\n",
       "        vertical-align: top;\n",
       "    }\n",
       "\n",
       "    .dataframe thead th {\n",
       "        text-align: right;\n",
       "    }\n",
       "</style>\n",
       "<table border=\"1\" class=\"dataframe\">\n",
       "  <thead>\n",
       "    <tr style=\"text-align: right;\">\n",
       "      <th></th>\n",
       "      <th>file_name</th>\n",
       "      <th>label</th>\n",
       "    </tr>\n",
       "  </thead>\n",
       "  <tbody>\n",
       "    <tr>\n",
       "      <th>0</th>\n",
       "      <td>winter5.jpeg</td>\n",
       "      <td>1</td>\n",
       "    </tr>\n",
       "    <tr>\n",
       "      <th>1</th>\n",
       "      <td>stars2.jpeg</td>\n",
       "      <td>1</td>\n",
       "    </tr>\n",
       "    <tr>\n",
       "      <th>2</th>\n",
       "      <td>winter6.jpeg</td>\n",
       "      <td>1</td>\n",
       "    </tr>\n",
       "    <tr>\n",
       "      <th>3</th>\n",
       "      <td>water_mud1.jpeg</td>\n",
       "      <td>1</td>\n",
       "    </tr>\n",
       "    <tr>\n",
       "      <th>4</th>\n",
       "      <td>monkey.jpeg</td>\n",
       "      <td>1</td>\n",
       "    </tr>\n",
       "  </tbody>\n",
       "</table>\n",
       "</div>"
      ],
      "text/plain": [
       "         file_name  label\n",
       "0     winter5.jpeg      1\n",
       "1      stars2.jpeg      1\n",
       "2     winter6.jpeg      1\n",
       "3  water_mud1.jpeg      1\n",
       "4      monkey.jpeg      1"
      ]
     },
     "execution_count": 8,
     "metadata": {},
     "output_type": "execute_result"
    }
   ],
   "source": [
    "filenames = list(os.listdir('./generated'))\n",
    "labels = [1] * len(filenames)\n",
    "\n",
    "genearated_df = pd.DataFrame({'file_name': filenames, 'label': labels})\n",
    "genearated_df.head()"
   ]
  },
  {
   "attachments": {},
   "cell_type": "markdown",
   "metadata": {},
   "source": [
    "Finally let's combine labels for all these images."
   ]
  },
  {
   "cell_type": "code",
   "execution_count": 10,
   "metadata": {},
   "outputs": [
    {
     "data": {
      "text/html": [
       "<div>\n",
       "<style scoped>\n",
       "    .dataframe tbody tr th:only-of-type {\n",
       "        vertical-align: middle;\n",
       "    }\n",
       "\n",
       "    .dataframe tbody tr th {\n",
       "        vertical-align: top;\n",
       "    }\n",
       "\n",
       "    .dataframe thead th {\n",
       "        text-align: right;\n",
       "    }\n",
       "</style>\n",
       "<table border=\"1\" class=\"dataframe\">\n",
       "  <thead>\n",
       "    <tr style=\"text-align: right;\">\n",
       "      <th></th>\n",
       "      <th>file_name</th>\n",
       "      <th>label</th>\n",
       "    </tr>\n",
       "  </thead>\n",
       "  <tbody>\n",
       "    <tr>\n",
       "      <th>0</th>\n",
       "      <td>image_100.png</td>\n",
       "      <td>0</td>\n",
       "    </tr>\n",
       "    <tr>\n",
       "      <th>1</th>\n",
       "      <td>image_102.jpeg</td>\n",
       "      <td>1</td>\n",
       "    </tr>\n",
       "    <tr>\n",
       "      <th>2</th>\n",
       "      <td>image_103.png</td>\n",
       "      <td>0</td>\n",
       "    </tr>\n",
       "    <tr>\n",
       "      <th>3</th>\n",
       "      <td>image_104.png</td>\n",
       "      <td>0</td>\n",
       "    </tr>\n",
       "    <tr>\n",
       "      <th>4</th>\n",
       "      <td>image_105.jpeg</td>\n",
       "      <td>1</td>\n",
       "    </tr>\n",
       "    <tr>\n",
       "      <th>...</th>\n",
       "      <td>...</td>\n",
       "      <td>...</td>\n",
       "    </tr>\n",
       "    <tr>\n",
       "      <th>401</th>\n",
       "      <td>city1.jpeg</td>\n",
       "      <td>1</td>\n",
       "    </tr>\n",
       "    <tr>\n",
       "      <th>402</th>\n",
       "      <td>water3.jpeg</td>\n",
       "      <td>1</td>\n",
       "    </tr>\n",
       "    <tr>\n",
       "      <th>403</th>\n",
       "      <td>grass1.jpeg</td>\n",
       "      <td>1</td>\n",
       "    </tr>\n",
       "    <tr>\n",
       "      <th>404</th>\n",
       "      <td>white3.jpeg</td>\n",
       "      <td>1</td>\n",
       "    </tr>\n",
       "    <tr>\n",
       "      <th>405</th>\n",
       "      <td>city2.jpeg</td>\n",
       "      <td>1</td>\n",
       "    </tr>\n",
       "  </tbody>\n",
       "</table>\n",
       "<p>406 rows × 2 columns</p>\n",
       "</div>"
      ],
      "text/plain": [
       "          file_name  label\n",
       "0     image_100.png      0\n",
       "1    image_102.jpeg      1\n",
       "2     image_103.png      0\n",
       "3     image_104.png      0\n",
       "4    image_105.jpeg      1\n",
       "..              ...    ...\n",
       "401      city1.jpeg      1\n",
       "402     water3.jpeg      1\n",
       "403     grass1.jpeg      1\n",
       "404     white3.jpeg      1\n",
       "405      city2.jpeg      1\n",
       "\n",
       "[406 rows x 2 columns]"
      ]
     },
     "execution_count": 10,
     "metadata": {},
     "output_type": "execute_result"
    }
   ],
   "source": [
    "markup = pd.concat([df, genearated_df], axis=0, ignore_index=True)\n",
    "markup"
   ]
  },
  {
   "attachments": {},
   "cell_type": "markdown",
   "metadata": {},
   "source": [
    "# Train-Test-Valid Split"
   ]
  },
  {
   "attachments": {},
   "cell_type": "markdown",
   "metadata": {},
   "source": [
    "I want to separate our data into **stratified train-valid-test split** to keep distribution of data.\n",
    "\n",
    "I implemented my own method to keep stratified separation to three parts."
   ]
  },
  {
   "cell_type": "code",
   "execution_count": 11,
   "metadata": {},
   "outputs": [
    {
     "data": {
      "text/html": [
       "<div>\n",
       "<style scoped>\n",
       "    .dataframe tbody tr th:only-of-type {\n",
       "        vertical-align: middle;\n",
       "    }\n",
       "\n",
       "    .dataframe tbody tr th {\n",
       "        vertical-align: top;\n",
       "    }\n",
       "\n",
       "    .dataframe thead th {\n",
       "        text-align: right;\n",
       "    }\n",
       "</style>\n",
       "<table border=\"1\" class=\"dataframe\">\n",
       "  <thead>\n",
       "    <tr style=\"text-align: right;\">\n",
       "      <th></th>\n",
       "      <th>file_name</th>\n",
       "      <th>label</th>\n",
       "      <th>train</th>\n",
       "      <th>val</th>\n",
       "      <th>test</th>\n",
       "    </tr>\n",
       "  </thead>\n",
       "  <tbody>\n",
       "    <tr>\n",
       "      <th>0</th>\n",
       "      <td>image_100.png</td>\n",
       "      <td>0</td>\n",
       "      <td>True</td>\n",
       "      <td>False</td>\n",
       "      <td>False</td>\n",
       "    </tr>\n",
       "    <tr>\n",
       "      <th>1</th>\n",
       "      <td>image_102.jpeg</td>\n",
       "      <td>1</td>\n",
       "      <td>True</td>\n",
       "      <td>False</td>\n",
       "      <td>False</td>\n",
       "    </tr>\n",
       "    <tr>\n",
       "      <th>2</th>\n",
       "      <td>image_103.png</td>\n",
       "      <td>0</td>\n",
       "      <td>False</td>\n",
       "      <td>True</td>\n",
       "      <td>False</td>\n",
       "    </tr>\n",
       "    <tr>\n",
       "      <th>3</th>\n",
       "      <td>image_104.png</td>\n",
       "      <td>0</td>\n",
       "      <td>True</td>\n",
       "      <td>False</td>\n",
       "      <td>False</td>\n",
       "    </tr>\n",
       "    <tr>\n",
       "      <th>4</th>\n",
       "      <td>image_105.jpeg</td>\n",
       "      <td>1</td>\n",
       "      <td>False</td>\n",
       "      <td>True</td>\n",
       "      <td>False</td>\n",
       "    </tr>\n",
       "  </tbody>\n",
       "</table>\n",
       "</div>"
      ],
      "text/plain": [
       "        file_name  label  train    val   test\n",
       "0   image_100.png      0   True  False  False\n",
       "1  image_102.jpeg      1   True  False  False\n",
       "2   image_103.png      0  False   True  False\n",
       "3   image_104.png      0   True  False  False\n",
       "4  image_105.jpeg      1  False   True  False"
      ]
     },
     "execution_count": 11,
     "metadata": {},
     "output_type": "execute_result"
    }
   ],
   "source": [
    "def train_valid_test_split(\n",
    "        df: pd.DataFrame,\n",
    "        val_size: float=0.1,\n",
    "        test_size: float=0.1,\n",
    "        stratify_col: str=None\n",
    "    ) -> pd.DataFrame:\n",
    "    '''Performs stratified train-valid-test split on the given data.\n",
    "\n",
    "    This method adds three new boolean columns to the given dataframe.\n",
    "    True values stands to what separation belongs to (train, valid or split).\n",
    "\n",
    "    Args:\n",
    "        df: Dataframe to separate data from.\n",
    "        val_size: Fraction of validation data.\n",
    "        test_size: Fraction of test data.\n",
    "        stratify_col: Column to count stratification statistics on.\n",
    "\n",
    "    Returns:\n",
    "        A copy of the original dataframe with new columns containing separation info.\n",
    "    '''\n",
    "    df = df.copy()\n",
    "\n",
    "    train_idxs, val_idxs = train_test_split(\n",
    "                            df.index, \n",
    "                            test_size=val_size, \n",
    "                            stratify=df[stratify_col],\n",
    "                            random_state=SEED\n",
    "                        )\n",
    "    \n",
    "    scaled_test_size = test_size / (1 - val_size)\n",
    "\n",
    "    train_idxs, test_idxs = train_test_split(\n",
    "                            train_idxs,\n",
    "                            test_size=scaled_test_size, \n",
    "                            stratify=df[stratify_col].iloc[train_idxs],\n",
    "                            random_state=SEED\n",
    "                        )\n",
    "\n",
    "    df['train'] = df.index.isin(train_idxs)\n",
    "    df['val'] = df.index.isin(val_idxs)\n",
    "    df['test'] = df.index.isin(test_idxs)\n",
    "\n",
    "    return df\n",
    "\n",
    "\n",
    "markup_separated = train_valid_test_split(markup, stratify_col='label')\n",
    "markup_separated.head()"
   ]
  },
  {
   "attachments": {},
   "cell_type": "markdown",
   "metadata": {},
   "source": [
    "# Dataset Creation"
   ]
  },
  {
   "attachments": {},
   "cell_type": "markdown",
   "metadata": {},
   "source": [
    "Finally, I implemeted unversal method for creating directories and moving files in `torchvision ImageFolder` format."
   ]
  },
  {
   "cell_type": "code",
   "execution_count": 91,
   "metadata": {},
   "outputs": [],
   "source": [
    "def create_image_folder(\n",
    "        df: pd.DataFrame, \n",
    "        data_folder: str, \n",
    "        folder_name: str\n",
    "    )  -> None:\n",
    "    '''Creates a directory in format of torchvision folder.\n",
    "\n",
    "    Args:\n",
    "        df: Dataframe with columns [file_name, label, train, val, test].\n",
    "        data_folder: Path to the directory containing files to spread in the folder \n",
    "            being created.\n",
    "        folder_name: Name with what to create new image folder directory.\n",
    "    '''\n",
    "    types = ['train', 'val', 'test']\n",
    "    targets = list(df['label'].unique())\n",
    "    os.makedirs(folder_name)\n",
    "\n",
    "    for type in types:\n",
    "        path = os.path.join(folder_name, type)\n",
    "        os.makedirs(path)\n",
    "        for target in targets:\n",
    "            dst_folder = os.path.join(path, str(target))\n",
    "            os.makedirs(dst_folder)\n",
    "\n",
    "            folder = df[type] == True\n",
    "            labels = df['label'] == target\n",
    "            filenames = list(df[labels & folder]['file_name'])\n",
    "            for filename in filenames:\n",
    "                src = os.path.join(data_folder, filename)\n",
    "                dst = os.path.join(dst_folder, filename)\n",
    "                shutil.copyfile(src, dst)\n",
    "            \n",
    "\n",
    "create_image_folder(markup_separated, 'all_images', 'bears_image_folder')"
   ]
  },
  {
   "attachments": {},
   "cell_type": "markdown",
   "metadata": {},
   "source": [
    "Let's take a look at the final result."
   ]
  },
  {
   "cell_type": "code",
   "execution_count": 92,
   "metadata": {},
   "outputs": [
    {
     "name": "stdout",
     "output_type": "stream",
     "text": [
      "bears_image_folder\n",
      "|-- val\n",
      "|   |-- 0\n",
      "|   |-- 1\n",
      "|-- test\n",
      "|   |-- 0\n",
      "|   |-- 1\n",
      "|-- train\n",
      "|   |-- 0\n",
      "|   |-- 1\n"
     ]
    }
   ],
   "source": [
    "ptree('bears_image_folder')"
   ]
  },
  {
   "cell_type": "code",
   "execution_count": 3,
   "metadata": {},
   "outputs": [
    {
     "name": "stdout",
     "output_type": "stream",
     "text": [
      "baby1.jpeg\timage_122.jpeg\timage_340.jpeg\troad2.jpeg  water3.jpeg\n",
      "city4.jpeg\timage_165.jpeg\timage_367.png\ttree5.jpeg  water_mud4.jpeg\n",
      "image_105.jpeg\timage_291.png\timage_393.png\ttree8.jpeg  white3.jpeg\n"
     ]
    }
   ],
   "source": [
    "!ls \"./bears_image_folder/val/1\""
   ]
  }
 ],
 "metadata": {
  "kernelspec": {
   "display_name": "base",
   "language": "python",
   "name": "python3"
  },
  "language_info": {
   "codemirror_mode": {
    "name": "ipython",
    "version": 3
   },
   "file_extension": ".py",
   "mimetype": "text/x-python",
   "name": "python",
   "nbconvert_exporter": "python",
   "pygments_lexer": "ipython3",
   "version": "3.8.8"
  },
  "orig_nbformat": 4
 },
 "nbformat": 4,
 "nbformat_minor": 2
}
